{
 "cells": [
  {
   "cell_type": "code",
   "execution_count": 1,
   "id": "dde6b29a-6445-424c-8770-3f350af8c6c8",
   "metadata": {
    "tags": []
   },
   "outputs": [
    {
     "name": "stdout",
     "output_type": "stream",
     "text": [
      "Jupyter environment detected. Enabling Open3D WebVisualizer.\n",
      "[Open3D INFO] WebRTC GUI backend enabled.\n",
      "[Open3D INFO] WebRTCWindowSystem: HTTP handshake server disabled.\n"
     ]
    }
   ],
   "source": [
    "import os\n",
    "import cv2\n",
    "import numpy as np\n",
    "import numpy as np\n",
    "import open3d as o3d\n"
   ]
  },
  {
   "cell_type": "markdown",
   "id": "15caeab3-208b-44c4-85d8-302fe0279822",
   "metadata": {},
   "source": [
    "## Create dictionary of object's Files"
   ]
  },
  {
   "cell_type": "code",
   "execution_count": 106,
   "id": "085ce23e-85e9-4a4a-813c-a4f26ce7da01",
   "metadata": {
    "tags": []
   },
   "outputs": [],
   "source": [
    "# Define the directory containing PCD files\n",
    "data_dir = 'C:/Users/Neil Bonnard/Downloads/RGBD'\n",
    "\n",
    "# Initialize an empty dictionary to store the dataset\n",
    "dataset = {}\n",
    "\n",
    "# Traverse through the directory structure\n",
    "for instance_file in os.listdir(data_dir):\n",
    "    if instance_file.endswith('a.pcd'):\n",
    "        # Load PCD file using Open3D\n",
    "        pcd = o3d.io.read_point_cloud(os.path.join(data_dir, instance_file))\n",
    "        points = np.asarray(pcd.points)  # Extract x, y, z coordinates\n",
    "        dataset[instance_file] = points"
   ]
  },
  {
   "cell_type": "markdown",
   "id": "9187f72a-b195-45a7-abb0-c98224c39b73",
   "metadata": {},
   "source": [
    "## Vizualize"
   ]
  },
  {
   "cell_type": "code",
   "execution_count": 107,
   "id": "73fcf96c-40b4-44f7-9fcb-20213bead3fa",
   "metadata": {
    "tags": []
   },
   "outputs": [
    {
     "name": "stdout",
     "output_type": "stream",
     "text": [
      "[Open3D WARNING] GLFW Error: WGL: Failed to make context current: L’opération de transformation demandée n’est pas prise en charge. \n",
      "[Open3D WARNING] GLFW Error: WGL: Failed to make context current: Descripteur non valide \n",
      "[Open3D WARNING] [ViewControl] SetViewPoint() failed because window height and width are not set.\n"
     ]
    }
   ],
   "source": [
    "# Visualize the first PCD file in the dictionary\n",
    "if dataset:\n",
    "    first_pcd_filename = list(dataset.keys())[0]\n",
    "    first_pcd_points = dataset[first_pcd_filename]\n",
    "    \n",
    "    # Create an Open3D point cloud object\n",
    "    pcd = o3d.geometry.PointCloud()\n",
    "    pcd.points = o3d.utility.Vector3dVector(first_pcd_points)\n",
    "    \n",
    "    # Visualize the point cloud\n",
    "    o3d.visualization.draw_geometries([pcd], window_name=f\"Visualization of {first_pcd_filename}\")"
   ]
  },
  {
   "cell_type": "markdown",
   "id": "d6bbfeaf-552c-43a3-985a-56797b52331a",
   "metadata": {},
   "source": [
    "## Compute shape:"
   ]
  },
  {
   "cell_type": "code",
   "execution_count": 108,
   "id": "126bde97-4b25-40f6-b26a-ba593ada102f",
   "metadata": {
    "tags": []
   },
   "outputs": [
    {
     "name": "stdout",
     "output_type": "stream",
     "text": [
      "Fitting shapes for LocoBanana.pcd\n",
      "Shape detected: sphere with 224 inliers\n",
      "\n",
      "Total inliers across all processed files:\n",
      "Plane: 154 inliers\n",
      "Sphere: 224 inliers\n",
      "Cylinder: 165 inliers\n",
      "Cuboid: 195 inliers\n"
     ]
    }
   ],
   "source": [
    "from pyransac3d import Plane, Sphere, Cylinder, Cuboid\n",
    "import numpy as np\n",
    "import open3d as o3d\n",
    "\n",
    "# Function to load and extract points\n",
    "def load_and_extract_points(file_path):\n",
    "    point_cloud = o3d.io.read_point_cloud(file_path)\n",
    "    points = np.asarray(point_cloud.points)\n",
    "    return points\n",
    "\n",
    "# Function to fit shapes and print the one with the most inliers\n",
    "def fit_and_print_shapes(points):\n",
    "    shapes = {\n",
    "        \"plane\": {\"model\": Plane(), \"inliers\": 0},\n",
    "        \"sphere\": {\"model\": Sphere(), \"inliers\": 0},\n",
    "        \"cylinder\": {\"model\": Cylinder(), \"inliers\": 0},\n",
    "        \"cuboid\": {\"model\": Cuboid(), \"inliers\": 0}\n",
    "    }\n",
    "    \n",
    "    # Fit a plane\n",
    "    best_eq_plane, best_inliers_plane = shapes[\"plane\"][\"model\"].fit(points, 0.004)\n",
    "    shapes[\"plane\"][\"inliers\"] = len(best_inliers_plane)\n",
    "    \n",
    "    # Fit a sphere\n",
    "    center, radius, best_inliers_sphere = shapes[\"sphere\"][\"model\"].fit(points, 0.004)\n",
    "    shapes[\"sphere\"][\"inliers\"] = len(best_inliers_sphere)\n",
    "    \n",
    "    # Fit a cylinder\n",
    "    center, axis, radius, best_inliers_cylinder = shapes[\"cylinder\"][\"model\"].fit(points, 0.004)\n",
    "    shapes[\"cylinder\"][\"inliers\"] = len(best_inliers_cylinder)\n",
    "    \n",
    "    # Fit a cuboid\n",
    "    best_eq_cuboid, best_inliers_cuboid = shapes[\"cuboid\"][\"model\"].fit(points, 0.004)\n",
    "    shapes[\"cuboid\"][\"inliers\"] = len(best_inliers_cuboid)\n",
    "    \n",
    "    # Determine shape with the most inliers\n",
    "    best_shape = max(shapes, key=lambda shape: shapes[shape][\"inliers\"])\n",
    "    num_inliers = shapes[best_shape][\"inliers\"]\n",
    "    \n",
    "    print(f\"Shape detected: {best_shape} with {num_inliers} inliers\")\n",
    "    \n",
    "    return shapes\n",
    "\n",
    "# Initialize totals for each shape\n",
    "total_inliers = {\n",
    "    \"plane\": 0,\n",
    "    \"sphere\": 0,\n",
    "    \"cylinder\": 0,\n",
    "    \"cuboid\": 0\n",
    "}\n",
    "\n",
    "# Process and print shapes for the first 100 PCD files in the dataset\n",
    "file_limit = 100\n",
    "processed_files = 0\n",
    "\n",
    "for filename, points in dataset.items():\n",
    "    if processed_files >= file_limit:\n",
    "        break\n",
    "    print(f\"Fitting shapes for {filename}\")\n",
    "    shape_inliers = fit_and_print_shapes(points)\n",
    "    \n",
    "    # Accumulate the total inliers for each shape\n",
    "    for shape, data in shape_inliers.items():\n",
    "        total_inliers[shape] += data['inliers']\n",
    "    \n",
    "    processed_files += 1\n",
    "\n",
    "# Print total inliers for each shape\n",
    "print(\"\\nTotal inliers across all processed files:\")\n",
    "for shape, inliers in total_inliers.items():\n",
    "    print(f\"{shape.capitalize()}: {inliers} inliers\")\n"
   ]
  },
  {
   "cell_type": "code",
   "execution_count": null,
   "id": "07710331-5474-44d9-8bcb-8d65f4fc3f7f",
   "metadata": {},
   "outputs": [],
   "source": []
  }
 ],
 "metadata": {
  "kernelspec": {
   "display_name": "Python 3 (ipykernel)",
   "language": "python",
   "name": "python3"
  },
  "language_info": {
   "codemirror_mode": {
    "name": "ipython",
    "version": 3
   },
   "file_extension": ".py",
   "mimetype": "text/x-python",
   "name": "python",
   "nbconvert_exporter": "python",
   "pygments_lexer": "ipython3",
   "version": "3.11.5"
  }
 },
 "nbformat": 4,
 "nbformat_minor": 5
}
